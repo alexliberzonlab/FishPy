{
 "cells": [
  {
   "cell_type": "code",
   "execution_count": 1,
   "metadata": {
    "ExecuteTime": {
     "end_time": "2019-08-14T13:37:24.792661Z",
     "start_time": "2019-08-14T13:37:23.771924Z"
    }
   },
   "outputs": [],
   "source": [
    "import numpy as np\n",
    "import matplotlib.pyplot as plt\n",
    "import fish_3d as f3\n",
    "from glob import glob\n",
    "from scipy.spatial.transform import Rotation as R\n",
    "import pickle\n",
    "\n",
    "%load_ext autoreload\n",
    "%autoreload 2"
   ]
  },
  {
   "cell_type": "code",
   "execution_count": 2,
   "metadata": {
    "ExecuteTime": {
     "end_time": "2019-08-14T13:37:25.241086Z",
     "start_time": "2019-08-14T13:37:25.217062Z"
    },
    "scrolled": false
   },
   "outputs": [],
   "source": [
    "corner_num = (23, 15)\n",
    "\n",
    "filenames_v1 = [f'calib_ext/cam-1-{i+1}.tiff' for i in range(10)]\n",
    "filenames_v2 = [f'calib_ext/cam-2-{i+1}.tiff' for i in range(10)]\n",
    "filenames_v3 = [f'calib_ext/cam-3-{i+1}.tiff' for i in range(10)]\n",
    "\n",
    "orders_v1 = ['321x', '321x', 'x123', 'x123', 'x123', 'x123', '321x', '321x', '321x', '321x']\n",
    "orders_v2 = ['x123', 'x123', 'x123', 'x123', '321x', '321x', 'x123', '321x', 'x123', 'x123']\n",
    "orders_v3 = ['x123', 'x123', '321x', '321x', '321x', '321x', 'x123', 'x123', 'x123', 'x123']\n",
    "\n",
    "cam_1 = f3.Camera()\n",
    "cam_2 = f3.Camera()\n",
    "cam_3 = f3.Camera()\n",
    "\n",
    "cam_1.read_int('internal/camera_1.pkl')\n",
    "cam_2.read_int('internal/camera_2.pkl')\n",
    "cam_3.read_int('internal/camera_3.pkl')"
   ]
  },
  {
   "cell_type": "code",
   "execution_count": 3,
   "metadata": {
    "ExecuteTime": {
     "end_time": "2019-08-14T13:39:07.429409Z",
     "start_time": "2019-08-14T13:37:26.417836Z"
    }
   },
   "outputs": [
    {
     "name": "stdout",
     "output_type": "stream",
     "text": [
      "==== reproject error for Extrinsic is 0.5495 ====\n",
      "==== reproject error for Extrinsic is 0.1826 ====\n",
      "==== reproject error for Extrinsic is 0.5896 ====\n",
      "==== reproject error for Extrinsic is 0.3957 ====\n",
      "==== reproject error for Extrinsic is 0.1946 ====\n",
      "==== reproject error for Extrinsic is 0.2806 ====\n",
      "==== reproject error for Extrinsic is 0.4925 ====\n",
      "==== reproject error for Extrinsic is 0.5147 ====\n",
      "==== reproject error for Extrinsic is 0.3038 ====\n",
      "==== reproject error for Extrinsic is 0.1768 ====\n",
      "==== reproject error for Extrinsic is 0.1523 ====\n",
      "==== reproject error for Extrinsic is 0.3784 ====\n",
      "==== reproject error for Extrinsic is 0.3644 ====\n",
      "==== reproject error for Extrinsic is 0.3883 ====\n",
      "==== reproject error for Extrinsic is 0.3908 ====\n",
      "==== reproject error for Extrinsic is 0.3640 ====\n",
      "==== reproject error for Extrinsic is 0.1700 ====\n",
      "==== reproject error for Extrinsic is 0.5886 ====\n",
      "==== reproject error for Extrinsic is 0.5697 ====\n",
      "==== reproject error for Extrinsic is 0.3732 ====\n",
      "==== reproject error for Extrinsic is 0.5666 ====\n",
      "==== reproject error for Extrinsic is 0.2218 ====\n",
      "==== reproject error for Extrinsic is 0.5685 ====\n",
      "==== reproject error for Extrinsic is 0.4956 ====\n",
      "==== reproject error for Extrinsic is 0.2317 ====\n",
      "==== reproject error for Extrinsic is 0.1628 ====\n",
      "==== reproject error for Extrinsic is 0.5626 ====\n",
      "==== reproject error for Extrinsic is 0.6124 ====\n",
      "==== reproject error for Extrinsic is 0.2058 ====\n",
      "==== reproject error for Extrinsic is 0.2130 ====\n",
      "Rotation between view#1 and view#2 is ['4.7251 ± -0.7703', '-79.9231 ± -0.3694', '-95.2331 ± 0.5718']\n",
      "Translation between view#1 and view#2 is ['737.4681 ± 16.3974', '-1050.3014 ± 26.8709', '978.4303 ± 35.6213']\n",
      "Rotation between view#1 and view#3 is ['-2.3357 ± 0.0530', '109.9993 ± 0.0400', '136.8387 ± 0.0181']\n",
      "Translation between view#1 and view#3 is ['-58.5303 ± 38.4817', '-1354.4218 ± 6.5042', '1091.2050 ± 28.1902']\n"
     ]
    }
   ],
   "source": [
    "f3.camera.calib_mult_ext(\n",
    "    cam_1, cam_2, cam_3,\n",
    "    filenames_v1, filenames_v2, filenames_v3,\n",
    "    orders_v1, orders_v2, orders_v3, grid_size=16, corner_number=corner_num, win_size=5)"
   ]
  },
  {
   "cell_type": "code",
   "execution_count": 4,
   "metadata": {
    "ExecuteTime": {
     "end_time": "2019-08-14T13:40:08.318352Z",
     "start_time": "2019-08-14T13:40:08.294335Z"
    }
   },
   "outputs": [],
   "source": [
    "with open('camera_1_calib_multi.pkl', 'wb') as f:\n",
    "    pickle.dump(cam_1, f)\n",
    "\n",
    "with open('camera_2_calib_multi.pkl', 'wb') as f:\n",
    "    pickle.dump(cam_2, f)\n",
    "    \n",
    "with open('camera_3_calib_multi.pkl', 'wb') as f:\n",
    "    pickle.dump(cam_3, f)"
   ]
  },
  {
   "cell_type": "code",
   "execution_count": 5,
   "metadata": {
    "ExecuteTime": {
     "end_time": "2019-08-14T13:41:46.487658Z",
     "start_time": "2019-08-14T13:41:46.467156Z"
    }
   },
   "outputs": [
    {
     "data": {
      "text/plain": [
       "array([  72.87875458,   64.41254631, 1165.47749144])"
      ]
     },
     "execution_count": 5,
     "metadata": {},
     "output_type": "execute_result"
    }
   ],
   "source": [
    "cam_1.t"
   ]
  },
  {
   "cell_type": "code",
   "execution_count": 6,
   "metadata": {
    "ExecuteTime": {
     "end_time": "2019-08-14T13:41:48.870552Z",
     "start_time": "2019-08-14T13:41:48.850835Z"
    }
   },
   "outputs": [
    {
     "data": {
      "text/plain": [
       "array([  64.44580551, -233.94007776, 1474.42484943])"
      ]
     },
     "execution_count": 6,
     "metadata": {},
     "output_type": "execute_result"
    }
   ],
   "source": [
    "cam_2.t"
   ]
  },
  {
   "cell_type": "code",
   "execution_count": null,
   "metadata": {},
   "outputs": [],
   "source": []
  }
 ],
 "metadata": {
  "kernelspec": {
   "display_name": "Python 3",
   "language": "python",
   "name": "python3"
  },
  "language_info": {
   "codemirror_mode": {
    "name": "ipython",
    "version": 3
   },
   "file_extension": ".py",
   "mimetype": "text/x-python",
   "name": "python",
   "nbconvert_exporter": "python",
   "pygments_lexer": "ipython3",
   "version": "3.7.3"
  },
  "toc": {
   "base_numbering": 1,
   "nav_menu": {},
   "number_sections": true,
   "sideBar": true,
   "skip_h1_title": false,
   "title_cell": "Table of Contents",
   "title_sidebar": "Contents",
   "toc_cell": false,
   "toc_position": {},
   "toc_section_display": true,
   "toc_window_display": false
  }
 },
 "nbformat": 4,
 "nbformat_minor": 2
}
